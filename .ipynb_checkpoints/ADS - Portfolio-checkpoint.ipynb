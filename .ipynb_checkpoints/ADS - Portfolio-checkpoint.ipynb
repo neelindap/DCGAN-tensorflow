{
 "cells": [
  {
   "cell_type": "markdown",
   "metadata": {},
   "source": [
    "# <div style=\"text-align: right\">Generative Adversarial Networks to create new Simpsons character face</div>\n",
    "\n",
    "<div style=\"text-align: right\">by Neel Indap(indap.n@husky.neu.edu)</div>"
   ]
  },
  {
   "cell_type": "markdown",
   "metadata": {},
   "source": [
    "## Introduction\n",
    "***"
   ]
  },
  {
   "cell_type": "markdown",
   "metadata": {},
   "source": [
    "### What is a Generative Adversarial Network (GAN)?\n",
    "Generative Adversarial Network (referred to as GAN) is a network that generates new data with the same internal structure as the training data. They can be described as generative models based on supervised learning.\n",
    "It consists of 2 Neural Networks models, the generator (which defines takes random noise and generates samples), and a discriminator (which takes the above sample, and tries to determine if it is fake or real). At each step, we try to minimize the loss for both models, until the point where the generator produces samples virtually indistinguishable from the real images, for the discriminator.\n",
    "The network itself can be thought of as a game between the 2 models, both competing to win.\n",
    "To gain more insight into this, refer to the following paper published by Ian Goodfellow and his colleagues, explaining their motivation behind this.<br>\n",
    "[GAN paper](https://arxiv.org/abs/1406.2661)\n",
    "\n",
    "If you are new to Neural Networks, checkout this video. It is a good starting point in understanding what they are and how do they work.<br>\n",
    "[What is a Neural Network?](https://www.youtube.com/watch?v=aircAruvnKk)"
   ]
  },
  {
   "cell_type": "markdown",
   "metadata": {},
   "source": [
    "## GAN Architecture\n",
    "![GAN Architecture](./images/GAN_architecture.png)"
   ]
  },
  {
   "cell_type": "markdown",
   "metadata": {},
   "source": [
    "### Why GAN?\n",
    "GANs are cited as the most interesting idea in the last ten years by the Yann LeCun, the director of AI at Facebook. This intrigued me to understand the working of this algorithm.\n",
    "<br>Since its inception, there have been various improvements published. Most of these are around image generation.\n",
    "In this paper, I am trying to train the model using a custom image set of only 100 images as training data. The original paper used a CelebA dataset provided by imagenet consisting of 200k images.\n",
    "\n",
    "Trying to get a stable working model using a small dataset, I am trying to see the impact of changing the hyper parameters, as well as modifying the neural network itself."
   ]
  },
  {
   "cell_type": "markdown",
   "metadata": {},
   "source": [
    "## Improvements on GAN - DCGAN\n",
    "***"
   ]
  },
  {
   "cell_type": "markdown",
   "metadata": {},
   "source": [
    "Shortly after its inception there was a paper published called [Unsupervised Learning using Deep Convolution GAN](https://arxiv.org/abs/1511.06434).\n",
    "\n",
    "This paper talks about the use of batch normalization in the CNN layers to improve preformance of the network."
   ]
  },
  {
   "cell_type": "markdown",
   "metadata": {},
   "source": [
    "## Setting up code\n",
    "***"
   ]
  },
  {
   "cell_type": "markdown",
   "metadata": {},
   "source": [
    "The code is hosted on [Github](https://github.com/neelindap/DCGAN-tensorflow)\n",
    "\n",
    "Clone the repository using ``` git clone https://github.com/neelindap/DCGAN-tensorflow```"
   ]
  },
  {
   "cell_type": "markdown",
   "metadata": {},
   "source": [
    "After cloning the repository, please install the following dependency:\n",
    "``` pip install Pillow ```"
   ]
  },
  {
   "cell_type": "markdown",
   "metadata": {},
   "source": [
    "**_NOTE_**:<br>\n",
    "\n",
    "It is assumed the system already has Tensorflow env set up. It not, refer to the this [tutorial](https://www.tensorflow.org/install/)."
   ]
  },
  {
   "cell_type": "markdown",
   "metadata": {},
   "source": [
    "## Running the Code\n",
    "***"
   ]
  },
  {
   "cell_type": "markdown",
   "metadata": {},
   "source": [
    "To run the code, on your terminal navigate to the installed path and run\n",
    "``` python main.py --train ```\n",
    "\n",
    "This will automatically pick-up the training images present in the folder ```./Data/Simpsons_64```.\n",
    "In order to use a different data set, place the images in the folder ```./Data``` folder and change the name of the \"dataset\" flag in ```main.py``` file."
   ]
  },
  {
   "cell_type": "markdown",
   "metadata": {},
   "source": [
    "## GAN model - Tensorboard Visualization\n",
    "***"
   ]
  },
  {
   "cell_type": "markdown",
   "metadata": {},
   "source": [
    "![Tensorflow Visualization](./images/GAN.png)"
   ]
  },
  {
   "cell_type": "markdown",
   "metadata": {},
   "source": [
    "## Code Snippets"
   ]
  },
  {
   "cell_type": "markdown",
   "metadata": {},
   "source": [
    "### Generator Model"
   ]
  },
  {
   "cell_type": "markdown",
   "metadata": {},
   "source": [
    "![Generator](./images/Generator.png)"
   ]
  },
  {
   "cell_type": "markdown",
   "metadata": {},
   "source": [
    "### Discriminator Model"
   ]
  },
  {
   "cell_type": "markdown",
   "metadata": {},
   "source": [
    "![Discriminator](./images/Discriminator.png)"
   ]
  },
  {
   "cell_type": "markdown",
   "metadata": {},
   "source": [
    "## License\n",
    "***"
   ]
  },
  {
   "cell_type": "markdown",
   "metadata": {},
   "source": [
    "The text in the document by Neel Indap is licensed under CC BY 3.0 https://creativecommons.org/licenses/by/3.0/us/\n",
    "\n",
    "The code in the document by Neel Indap is licensed under the MIT License https://opensource.org/licenses/MIT\n",
    "![License](https://licensebuttons.net/l/by/3.0/us/88x31.png)"
   ]
  },
  {
   "cell_type": "code",
   "execution_count": null,
   "metadata": {},
   "outputs": [],
   "source": []
  }
 ],
 "metadata": {
  "kernelspec": {
   "display_name": "TF",
   "language": "python",
   "name": "tensorflow"
  },
  "language_info": {
   "codemirror_mode": {
    "name": "ipython",
    "version": 3
   },
   "file_extension": ".py",
   "mimetype": "text/x-python",
   "name": "python",
   "nbconvert_exporter": "python",
   "pygments_lexer": "ipython3",
   "version": "3.5.5"
  }
 },
 "nbformat": 4,
 "nbformat_minor": 2
}
